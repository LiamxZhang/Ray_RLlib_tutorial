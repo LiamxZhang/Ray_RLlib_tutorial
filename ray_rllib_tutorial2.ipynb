{
 "cells": [
  {
   "cell_type": "markdown",
   "id": "74376889",
   "metadata": {},
   "source": [
    "# 核心概念\n",
    "RLlib 概述：RLlib 的核心组件是Algorithm类，它充当执行您的 RL 实验的运行时。使用算法的入口是AlgorithmConfig（青色）类，它允许您管理可用的配置设置，例如学习率或模型架构。大多数Algorithm对象都拥有EnvRunneractor（蓝色）用于从RL 环境收集训练样本，以及Learneractor（黄色）用于计算梯度和更新您的模型。算法在更新后会同步模型权重。"
   ]
  },
  {
   "cell_type": "markdown",
   "id": "c72fe2f0",
   "metadata": {},
   "source": [
    "AlgorithmConfig 和 Algorithm\n",
    "使用各种 RLlib Algorithm 类型的入口是各自的 AlgorithmConfig 类，允许您以检查和类型安全的方式配置可用设置。例如，要配置 PPO（“近端策略优化”）算法实例，您可以使用 PPOConfig 类。\n",
    "在构建过程中，Algorithm 首先设置其 EnvRunnerGroup，其中包含 n 个 EnvRunner actor，以及其 LearnerGroup，其中包含 m 个 Learner actor。通过这种方式，您可以分别从单个核心扩展到集群中的数千个核心，以扩展样本收集和训练。\n"
   ]
  },
  {
   "cell_type": "code",
   "execution_count": null,
   "id": "39386f9b",
   "metadata": {},
   "outputs": [
    {
     "name": "stderr",
     "output_type": "stream",
     "text": [
      "2025-08-04 22:50:46,613\tWARNING deprecation.py:50 -- DeprecationWarning: `build` has been deprecated. Use `AlgorithmConfig.build_algo` instead. This will raise an error in the future!\n",
      "2025-08-04 22:50:46,615\tWARNING algorithm_config.py:5033 -- You are running PPO on the new API stack! This is the new default behavior for this algorithm. If you don't want to use the new API stack, set `config.api_stack(enable_rl_module_and_learner=False,enable_env_runner_and_connector_v2=False)`. For a detailed migration guide, see here: https://docs.ray.io/en/master/rllib/new-api-stack-migration-guide.html\n",
      "/home/robotarm/anaconda3/envs/ray_env/lib/python3.10/site-packages/ray/rllib/algorithms/algorithm.py:520: RayDeprecationWarning: This API is deprecated and may be removed in future Ray releases. You could suppress this warning by setting env variable PYTHONWARNINGS=\"ignore::DeprecationWarning\"\n",
      "`UnifiedLogger` will be removed in Ray 2.7.\n",
      "  return UnifiedLogger(config, logdir, loggers=None)\n",
      "/home/robotarm/anaconda3/envs/ray_env/lib/python3.10/site-packages/ray/tune/logger/unified.py:53: RayDeprecationWarning: This API is deprecated and may be removed in future Ray releases. You could suppress this warning by setting env variable PYTHONWARNINGS=\"ignore::DeprecationWarning\"\n",
      "The `JsonLogger interface is deprecated in favor of the `ray.tune.json.JsonLoggerCallback` interface and will be removed in Ray 2.7.\n",
      "  self._loggers.append(cls(self.config, self.logdir, self.trial))\n",
      "/home/robotarm/anaconda3/envs/ray_env/lib/python3.10/site-packages/ray/tune/logger/unified.py:53: RayDeprecationWarning: This API is deprecated and may be removed in future Ray releases. You could suppress this warning by setting env variable PYTHONWARNINGS=\"ignore::DeprecationWarning\"\n",
      "The `CSVLogger interface is deprecated in favor of the `ray.tune.csv.CSVLoggerCallback` interface and will be removed in Ray 2.7.\n",
      "  self._loggers.append(cls(self.config, self.logdir, self.trial))\n",
      "/home/robotarm/anaconda3/envs/ray_env/lib/python3.10/site-packages/ray/tune/logger/unified.py:53: RayDeprecationWarning: This API is deprecated and may be removed in future Ray releases. You could suppress this warning by setting env variable PYTHONWARNINGS=\"ignore::DeprecationWarning\"\n",
      "The `TBXLogger interface is deprecated in favor of the `ray.tune.tensorboardx.TBXLoggerCallback` interface and will be removed in Ray 2.7.\n",
      "  self._loggers.append(cls(self.config, self.logdir, self.trial))\n",
      "2025-08-04 22:50:47,942\tINFO worker.py:1927 -- Started a local Ray instance.\n",
      "[2025-08-04 22:50:49,223 E 3199946 3199946] core_worker.cc:2740: Actor with class name: 'SingleAgentEnvRunner' and ID: '351ff80ebbc61d15f0b4d3e801000000' has constructor arguments in the object store and max_restarts > 0. If the arguments in the object store go out of scope or are lost, the actor restart will fail. See https://github.com/ray-project/ray/issues/53727 for more details.\n",
      "[2025-08-04 22:50:49,263 E 3199946 3199946] core_worker.cc:2740: Actor with class name: 'SingleAgentEnvRunner' and ID: 'b56186b94cbc35ff9737442901000000' has constructor arguments in the object store and max_restarts > 0. If the arguments in the object store go out of scope or are lost, the actor restart will fail. See https://github.com/ray-project/ray/issues/53727 for more details.\n",
      "\u001b[36m(SingleAgentEnvRunner pid=3200241)\u001b[0m 2025-08-04 22:50:52,972\tWARNING deprecation.py:50 -- DeprecationWarning: `RLModule(config=[RLModuleConfig object])` has been deprecated. Use `RLModule(observation_space=.., action_space=.., inference_only=.., model_config=.., catalog_class=..)` instead. This will raise an error in the future!\n",
      "2025-08-04 22:50:53,239\tWARNING deprecation.py:50 -- DeprecationWarning: `RLModule(config=[RLModuleConfig object])` has been deprecated. Use `RLModule(observation_space=.., action_space=.., inference_only=.., model_config=.., catalog_class=..)` instead. This will raise an error in the future!\n"
     ]
    },
    {
     "name": "stdout",
     "output_type": "stream",
     "text": [
      "{'timers': {'training_iteration': 7.654325661016628, 'restore_env_runners': 2.7968897484242916e-05, 'training_step': 7.653806342044845, 'env_runner_sampling_timer': 2.1841077659046277, 'learner_update_timer': 5.465040223090909, 'synch_weights': 0.0031930829863995314}, 'env_runners': {'num_episodes_lifetime': 93.0, 'module_to_env_connector': {'timers': {'connectors': {'listify_data_for_vector_env': np.float64(5.4867078324845275e-05), 'un_batch_to_individual_items': np.float64(3.01107424896616e-05), 'get_actions': np.float64(0.0004431089123402281), 'tensor_to_numpy': np.float64(9.187517128096352e-05), 'remove_single_ts_time_rank_from_batch': np.float64(3.261060719322453e-06), 'normalize_and_clip_actions': np.float64(5.134171365577584e-05)}}, 'connector_pipeline_timer': np.float64(0.0008485672500699198)}, 'sample': np.float64(1.8559252845006995), 'env_to_module_connector': {'timers': {'connectors': {'add_states_from_episodes_to_batch': np.float64(7.647165153443389e-06), 'add_observations_from_episodes_to_batch': np.float64(1.5267940306839155e-05), 'numpy_to_tensor': np.float64(5.9911570751212205e-05), 'batch_individual_items': np.float64(3.116617447678013e-05), 'add_time_dim_to_batch_and_zero_pad': np.float64(1.3172991289601179e-05)}}, 'connector_pipeline_timer': np.float64(0.00023294839085472336)}, 'agent_episode_return_mean': {'default_agent': 20.52}, 'episode_len_min': 9, 'module_episode_return_mean': {'default_policy': 20.52}, 'episode_return_min': 9.0, 'episode_return_max': 48.0, 'num_env_steps_sampled': 2000.0, 'num_env_steps_sampled_lifetime': 2000.0, 'episode_duration_sec_mean': 0.034223317552823575, 'num_agent_steps_sampled_lifetime': {'default_agent': 2000.0}, 'episode_len_mean': 20.52, 'env_step_timer': np.float64(0.0001006806915404129), 'rlmodule_inference_timer': np.float64(0.00024426209892383253), 'num_module_steps_sampled': {'default_policy': 2000.0}, 'num_module_steps_sampled_lifetime': {'default_policy': 2000.0}, 'env_to_module_sum_episodes_length_out': np.float64(12.756136286095911), 'weights_seq_no': 0.0, 'episode_len_max': 48, 'env_to_module_sum_episodes_length_in': np.float64(12.756136286095911), 'num_agent_steps_sampled': {'default_agent': 2000.0}, 'num_episodes': 93.0, 'episode_return_mean': 20.52, 'env_reset_timer': np.float64(0.0007514109602198005), 'num_env_steps_sampled_lifetime_throughput': np.float64(539.5963486791169)}, 'learners': {'__all_modules__': {'num_module_steps_trained_lifetime': 62976, 'learner_connector': {'timers': {'connectors': {'add_time_dim_to_batch_and_zero_pad': 3.2979995012283325e-05, 'add_states_from_episodes_to_batch': 1.0580988600850105e-05, 'add_observations_from_episodes_to_batch': 0.0019638140220195055, 'add_one_ts_to_episodes_and_truncate': 0.015132887987419963, 'numpy_to_tensor': 0.00040202203672379255, 'add_columns_from_episodes_to_train_batch': 0.0612257169559598, 'batch_individual_items': 0.04609368392266333, 'general_advantage_estimation': 0.043920074007473886}}, 'connector_pipeline_timer': 0.1696727080270648}, 'num_non_trainable_parameters': 0, 'num_env_steps_trained': 1030740, 'num_trainable_parameters': 134915, 'learner_connector_sum_episodes_length_in': 2000, 'num_module_steps_trained': 62976, 'num_env_steps_trained_lifetime': 1030740, 'learner_connector_sum_episodes_length_out': 2095, 'num_env_steps_trained_lifetime_throughput': 186054.58331591872, 'num_module_steps_trained_throughput': 11365.188369330655, 'num_module_steps_trained_lifetime_throughput': 11365.84433890325}, 'default_policy': {'module_train_batch_size_mean': 128.0, 'num_trainable_parameters': 134915, 'curr_kl_coeff': 0.30000001192092896, 'num_module_steps_trained': 62976, 'default_optimizer_learning_rate': 0.0004, 'total_loss': np.float32(5.495139), 'vf_loss_unclipped': np.float32(83.220314), 'mean_kl_loss': np.float32(0.032125067), 'curr_entropy_coeff': 0.0, 'num_module_steps_trained_lifetime': 62976, 'diff_num_grad_updates_vs_sampler_policy': np.float32(1.0), 'vf_loss': np.float32(5.662218), 'policy_loss': np.float32(-0.17350435), 'entropy': np.float32(0.6677031), 'vf_explained_var': np.float32(0.2415728), 'gradients_default_optimizer_global_norm': np.float32(3.9090233), 'weights_seq_no': 1.0, 'num_module_steps_trained_lifetime_throughput': 11364.848399942573}}, 'num_training_step_calls_per_iteration': 1, 'num_env_steps_sampled_lifetime': 2000.0, 'fault_tolerance': {'num_healthy_workers': 2, 'num_remote_worker_restarts': 0}, 'env_runner_group': {'actor_manager_num_outstanding_async_reqs': 0}, 'done': False, 'training_iteration': 1, 'trial_id': 'default', 'date': '2025-08-04_22-51-02', 'timestamp': 1754319062, 'time_this_iter_s': 7.665359258651733, 'time_total_s': 7.665359258651733, 'pid': 3199946, 'hostname': 'robotarm-Precision-7920-Tower', 'node_ip': '198.18.0.1', 'config': {'exploration_config': {}, 'extra_python_environs_for_driver': {}, 'extra_python_environs_for_worker': {}, 'placement_strategy': 'PACK', 'num_gpus': 0, '_fake_gpus': False, 'num_cpus_for_main_process': 1, 'eager_tracing': True, 'eager_max_retraces': 20, 'tf_session_args': {'intra_op_parallelism_threads': 2, 'inter_op_parallelism_threads': 2, 'gpu_options': {'allow_growth': True}, 'log_device_placement': False, 'device_count': {'CPU': 1}, 'allow_soft_placement': True}, 'local_tf_session_args': {'intra_op_parallelism_threads': 8, 'inter_op_parallelism_threads': 8}, 'torch_compile_learner': False, 'torch_compile_learner_what_to_compile': <TorchCompileWhatToCompile.FORWARD_TRAIN: 'forward_train'>, 'torch_compile_learner_dynamo_backend': 'inductor', 'torch_compile_learner_dynamo_mode': None, 'torch_compile_worker': False, 'torch_compile_worker_dynamo_backend': 'onnxrt', 'torch_compile_worker_dynamo_mode': None, 'torch_ddp_kwargs': {}, 'torch_skip_nan_gradients': False, 'env': 'CartPole-v1', 'env_config': {}, 'observation_space': None, 'action_space': None, 'clip_rewards': None, 'normalize_actions': True, 'clip_actions': False, '_is_atari': None, 'disable_env_checking': False, 'render_env': False, 'action_mask_key': 'action_mask', 'env_runner_cls': None, 'num_env_runners': 2, 'create_local_env_runner': True, 'num_envs_per_env_runner': 1, 'gym_env_vectorize_mode': 'SYNC', 'num_cpus_per_env_runner': 1, 'num_gpus_per_env_runner': 0, 'custom_resources_per_env_runner': {}, 'validate_env_runners_after_construction': True, 'episodes_to_numpy': True, 'max_requests_in_flight_per_env_runner': 1, 'sample_timeout_s': 60.0, '_env_to_module_connector': None, 'add_default_connectors_to_env_to_module_pipeline': True, '_module_to_env_connector': None, 'add_default_connectors_to_module_to_env_pipeline': True, 'merge_env_runner_states': 'training_only', 'broadcast_env_runner_states': True, 'episode_lookback_horizon': 1, 'rollout_fragment_length': 'auto', 'batch_mode': 'truncate_episodes', 'compress_observations': False, 'remote_worker_envs': False, 'remote_env_batch_wait_ms': 0, 'enable_tf1_exec_eagerly': False, 'sample_collector': <class 'ray.rllib.evaluation.collectors.simple_list_collector.SimpleListCollector'>, 'preprocessor_pref': 'deepmind', 'observation_filter': 'NoFilter', 'update_worker_filter_stats': True, 'use_worker_filter_stats': True, 'sampler_perf_stats_ema_coef': None, '_is_online': True, 'num_learners': 0, 'num_gpus_per_learner': 0, 'num_cpus_per_learner': 'auto', 'num_aggregator_actors_per_learner': 0, 'max_requests_in_flight_per_aggregator_actor': 3, 'local_gpu_idx': 0, 'max_requests_in_flight_per_learner': 3, 'gamma': 0.99, 'lr': 0.0004, 'grad_clip': None, 'grad_clip_by': 'global_norm', '_train_batch_size_per_learner': 2000, 'train_batch_size': 4000, 'num_epochs': 30, 'minibatch_size': 128, 'shuffle_batch_per_epoch': True, 'model': {'fcnet_hiddens': [256, 256], 'fcnet_activation': 'tanh', 'fcnet_weights_initializer': None, 'fcnet_weights_initializer_config': None, 'fcnet_bias_initializer': None, 'fcnet_bias_initializer_config': None, 'conv_filters': None, 'conv_activation': 'relu', 'conv_kernel_initializer': None, 'conv_kernel_initializer_config': None, 'conv_bias_initializer': None, 'conv_bias_initializer_config': None, 'conv_transpose_kernel_initializer': None, 'conv_transpose_kernel_initializer_config': None, 'conv_transpose_bias_initializer': None, 'conv_transpose_bias_initializer_config': None, 'post_fcnet_hiddens': [], 'post_fcnet_activation': 'relu', 'post_fcnet_weights_initializer': None, 'post_fcnet_weights_initializer_config': None, 'post_fcnet_bias_initializer': None, 'post_fcnet_bias_initializer_config': None, 'free_log_std': False, 'log_std_clip_param': 20.0, 'no_final_linear': False, 'vf_share_layers': False, 'use_lstm': False, 'max_seq_len': 20, 'lstm_cell_size': 256, 'lstm_use_prev_action': False, 'lstm_use_prev_reward': False, 'lstm_weights_initializer': None, 'lstm_weights_initializer_config': None, 'lstm_bias_initializer': None, 'lstm_bias_initializer_config': None, '_time_major': False, 'use_attention': False, 'attention_num_transformer_units': 1, 'attention_dim': 64, 'attention_num_heads': 1, 'attention_head_dim': 32, 'attention_memory_inference': 50, 'attention_memory_training': 50, 'attention_position_wise_mlp_dim': 32, 'attention_init_gru_gate_bias': 2.0, 'attention_use_n_prev_actions': 0, 'attention_use_n_prev_rewards': 0, 'framestack': True, 'dim': 84, 'grayscale': False, 'zero_mean': True, 'custom_model': None, 'custom_model_config': {}, 'custom_action_dist': None, 'custom_preprocessor': None, 'encoder_latent_dim': None, 'always_check_shapes': False, 'lstm_use_prev_action_reward': -1, '_use_default_native_models': -1, '_disable_preprocessor_api': False, '_disable_action_flattening': False}, '_learner_connector': None, 'add_default_connectors_to_learner_pipeline': True, 'learner_config_dict': {}, 'optimizer': {}, '_learner_class': None, 'callbacks_on_algorithm_init': None, 'callbacks_on_env_runners_recreated': None, 'callbacks_on_offline_eval_runners_recreated': None, 'callbacks_on_checkpoint_loaded': None, 'callbacks_on_environment_created': None, 'callbacks_on_episode_created': None, 'callbacks_on_episode_start': None, 'callbacks_on_episode_step': None, 'callbacks_on_episode_end': None, 'callbacks_on_evaluate_start': None, 'callbacks_on_evaluate_end': None, 'callbacks_on_evaluate_offline_start': None, 'callbacks_on_evaluate_offline_end': None, 'callbacks_on_sample_end': None, 'callbacks_on_train_result': None, 'explore': True, 'enable_rl_module_and_learner': True, 'enable_env_runner_and_connector_v2': True, '_prior_exploration_config': {'type': 'StochasticSampling'}, 'count_steps_by': 'env_steps', 'policy_map_capacity': 100, 'policy_mapping_fn': <function AlgorithmConfig.DEFAULT_POLICY_MAPPING_FN at 0x7dc55bd572e0>, 'policies_to_train': None, 'policy_states_are_swappable': False, 'observation_fn': None, 'offline_data_class': None, 'input_read_method': 'read_parquet', 'input_read_method_kwargs': {}, 'input_read_schema': {}, 'input_read_episodes': False, 'input_read_sample_batches': False, 'input_read_batch_size': None, 'input_filesystem': None, 'input_filesystem_kwargs': {}, 'input_compress_columns': ['obs', 'new_obs'], 'input_spaces_jsonable': True, 'materialize_data': False, 'materialize_mapped_data': True, 'map_batches_kwargs': {}, 'iter_batches_kwargs': {}, 'ignore_final_observation': False, 'prelearner_class': None, 'prelearner_buffer_class': None, 'prelearner_buffer_kwargs': {}, 'prelearner_module_synch_period': 10, 'dataset_num_iters_per_learner': None, 'input_config': {}, 'actions_in_input_normalized': False, 'postprocess_inputs': False, 'shuffle_buffer_size': 0, 'output': None, 'output_config': {}, 'output_compress_columns': ['obs', 'new_obs'], 'output_max_file_size': 67108864, 'output_max_rows_per_file': None, 'output_write_remaining_data': False, 'output_write_method': 'write_parquet', 'output_write_method_kwargs': {}, 'output_filesystem': None, 'output_filesystem_kwargs': {}, 'output_write_episodes': True, 'offline_sampling': False, 'evaluation_interval': None, 'evaluation_duration': 10, 'evaluation_duration_unit': 'episodes', 'evaluation_sample_timeout_s': 120.0, 'evaluation_auto_duration_min_env_steps_per_sample': 100, 'evaluation_auto_duration_max_env_steps_per_sample': 2000, 'evaluation_parallel_to_training': False, 'evaluation_force_reset_envs_before_iteration': True, 'evaluation_config': None, 'off_policy_estimation_methods': {}, 'ope_split_batch_by_episode': True, 'evaluation_num_env_runners': 0, 'in_evaluation': False, 'sync_filters_on_rollout_workers_timeout_s': 10.0, 'offline_evaluation_interval': None, 'num_offline_eval_runners': 0, 'offline_evaluation_type': None, 'offline_eval_runner_class': None, 'offline_loss_for_module_fn': None, 'offline_evaluation_duration': 1, 'offline_evaluation_parallel_to_training': False, 'offline_evaluation_timeout_s': 120.0, 'num_cpus_per_offline_eval_runner': 1, 'num_gpus_per_offline_eval_runner': 0, 'custom_resources_per_offline_eval_runner': {}, 'restart_failed_offline_eval_runners': True, 'ignore_offline_eval_runner_failures': False, 'max_num_offline_eval_runner_restarts': 1000, 'offline_eval_runner_restore_timeout_s': 1800.0, 'max_requests_in_flight_per_offline_eval_runner': 1, 'validate_offline_eval_runners_after_construction': True, 'offline_eval_runner_health_probe_timeout_s': 30.0, 'offline_eval_rl_module_inference_only': False, 'broadcast_offline_eval_runner_states': False, 'offline_eval_batch_size_per_runner': 256, 'dataset_num_iters_per_eval_runner': 1, 'keep_per_episode_custom_metrics': False, 'metrics_episode_collection_timeout_s': 60.0, 'metrics_num_episodes_for_smoothing': 100, 'min_time_s_per_iteration': None, 'min_train_timesteps_per_iteration': 0, 'min_sample_timesteps_per_iteration': 0, 'log_gradients': True, 'export_native_model_files': False, 'checkpoint_trainable_policies_only': False, 'logger_creator': None, 'logger_config': None, 'log_level': 'WARN', 'log_sys_usage': True, 'fake_sampler': False, 'seed': None, 'restart_failed_env_runners': True, 'ignore_env_runner_failures': False, 'max_num_env_runner_restarts': 1000, 'delay_between_env_runner_restarts_s': 60.0, 'restart_failed_sub_environments': False, 'num_consecutive_env_runner_failures_tolerance': 100, 'env_runner_health_probe_timeout_s': 30.0, 'env_runner_restore_timeout_s': 1800.0, '_model_config': {}, '_rl_module_spec': None, 'algorithm_config_overrides_per_module': {}, '_per_module_overrides': {}, '_validate_config': True, '_use_msgpack_checkpoints': False, '_torch_grad_scaler_class': None, '_torch_lr_scheduler_classes': None, '_tf_policy_handles_more_than_one_loss': False, '_disable_preprocessor_api': False, '_disable_action_flattening': False, '_disable_initialize_loss_from_dummy_batch': False, '_dont_auto_sync_env_runner_states': False, 'env_task_fn': -1, 'enable_connectors': -1, 'simple_optimizer': False, 'policy_map_cache': -1, 'worker_cls': -1, 'synchronize_filters': -1, 'enable_async_evaluation': -1, 'custom_async_evaluation_function': -1, '_enable_rl_module_api': -1, 'auto_wrap_old_gym_envs': -1, 'always_attach_evaluation_results': -1, 'replay_sequence_length': None, '_disable_execution_plan_api': -1, 'use_critic': True, 'use_gae': True, 'use_kl_loss': True, 'kl_coeff': 0.2, 'kl_target': 0.01, 'vf_loss_coeff': 1.0, 'entropy_coeff': 0.0, 'clip_param': 0.3, 'vf_clip_param': 10.0, 'entropy_coeff_schedule': None, 'lr_schedule': None, 'sgd_minibatch_size': -1, 'vf_share_layers': -1, 'class': <class 'ray.rllib.algorithms.ppo.ppo.PPOConfig'>, 'lambda': 1.0, 'input': 'sampler', 'policies': {'default_policy': (None, None, None, None)}, 'callbacks': <class 'ray.rllib.callbacks.callbacks.RLlibCallback'>, 'create_env_on_driver': False, 'custom_eval_function': None, 'framework': 'torch'}, 'time_since_restore': 7.665359258651733, 'iterations_since_restore': 1, 'perf': {'cpu_util_percent': np.float64(43.06), 'ram_util_percent': np.float64(70.13000000000001), 'gpu_util_percent0': np.float64(0.10500000000000001), 'vram_util_percent0': np.float64(0.17734375), 'gpu_util_percent1': np.float64(0.0), 'vram_util_percent1': np.float64(0.0005699397492265103)}}\n"
     ]
    },
    {
     "name": "stderr",
     "output_type": "stream",
     "text": [
      "\u001b[36m(PPO pid=3203836)\u001b[0m 2025-08-04 22:54:07,225\tWARNING algorithm_config.py:5033 -- You are running PPO on the new API stack! This is the new default behavior for this algorithm. If you don't want to use the new API stack, set `config.api_stack(enable_rl_module_and_learner=False,enable_env_runner_and_connector_v2=False)`. For a detailed migration guide, see here: https://docs.ray.io/en/master/rllib/new-api-stack-migration-guide.html\n",
      "\u001b[36m(PPO pid=3203836)\u001b[0m [2025-08-04 22:54:07,605 E 3203836 3203836] core_worker.cc:2740: Actor with class name: 'SingleAgentEnvRunner' and ID: '7edb1854274a945e9b6bbb9c01000000' has constructor arguments in the object store and max_restarts > 0. If the arguments in the object store go out of scope or are lost, the actor restart will fail. See https://github.com/ray-project/ray/issues/53727 for more details.\n",
      "\u001b[36m(PPO pid=3203836)\u001b[0m [2025-08-04 22:54:07,643 E 3203836 3203836] core_worker.cc:2740: Actor with class name: 'SingleAgentEnvRunner' and ID: '42c57f2a3942b157b2e4468901000000' has constructor arguments in the object store and max_restarts > 0. If the arguments in the object store go out of scope or are lost, the actor restart will fail. See https://github.com/ray-project/ray/issues/53727 for more details.\n",
      "\u001b[36m(SingleAgentEnvRunner pid=3203917)\u001b[0m 2025-08-04 22:54:12,430\tWARNING deprecation.py:50 -- DeprecationWarning: `RLModule(config=[RLModuleConfig object])` has been deprecated. Use `RLModule(observation_space=.., action_space=.., inference_only=.., model_config=.., catalog_class=..)` instead. This will raise an error in the future!\n",
      "\u001b[36m(PPO(env=CartPole-v1; env-runners=2; learners=0; multi-agent=False) pid=3203836)\u001b[0m Checkpoint successfully created at: Checkpoint(filesystem=local, path=/home/robotarm/ray_results/PPO_2025-08-04_22-54-02/PPO_CartPole-v1_dc175_00000_0_2025-08-04_22-54-02/checkpoint_000000)\n",
      "\u001b[36m(PPO pid=3203836)\u001b[0m 2025-08-04 22:54:12,666\tWARNING deprecation.py:50 -- DeprecationWarning: `RLModule(config=[RLModuleConfig object])` has been deprecated. Use `RLModule(observation_space=.., action_space=.., inference_only=.., model_config=.., catalog_class=..)` instead. This will raise an error in the future!\u001b[32m [repeated 2x across cluster] (Ray deduplicates logs by default. Set RAY_DEDUP_LOGS=0 to disable log deduplication, or see https://docs.ray.io/en/master/ray-observability/user-guides/configure-logging.html#log-deduplication for more options.)\u001b[0m\n"
     ]
    }
   ],
   "source": [
    "from ray.rllib.algorithms.ppo import PPOConfig\n",
    "\n",
    "# Configure.\n",
    "config = (\n",
    "    PPOConfig()\n",
    "    .environment(\"CartPole-v1\")\n",
    "    .training(\n",
    "        train_batch_size_per_learner=2000,\n",
    "        lr=0.0004,\n",
    "    )\n",
    ")\n",
    "\n",
    "# Build the Algorithm.\n",
    "algo = config.build()\n",
    "\n",
    "# Train for one iteration, which is 2000 timesteps (1 train batch).\n",
    "print(algo.train())"
   ]
  },
  {
   "cell_type": "markdown",
   "id": "54b74b88",
   "metadata": {},
   "source": [
    "由于 Algorithm 类是 Tune Trainable API 的子类，可以使用 Ray Tune 更轻松地管理您的实验并调优超参数。"
   ]
  },
  {
   "cell_type": "code",
   "execution_count": 1,
   "id": "e01dc087",
   "metadata": {},
   "outputs": [
    {
     "data": {
      "text/html": [
       "<div class=\"tuneStatus\">\n",
       "  <div style=\"display: flex;flex-direction: row\">\n",
       "    <div style=\"display: flex;flex-direction: column;\">\n",
       "      <h3>Tune Status</h3>\n",
       "      <table>\n",
       "<tbody>\n",
       "<tr><td>Current time:</td><td>2025-08-05 14:41:54</td></tr>\n",
       "<tr><td>Running for: </td><td>00:00:26.97        </td></tr>\n",
       "<tr><td>Memory:      </td><td>11.7/15.3 GiB      </td></tr>\n",
       "</tbody>\n",
       "</table>\n",
       "    </div>\n",
       "    <div class=\"vDivider\"></div>\n",
       "    <div class=\"systemInfo\">\n",
       "      <h3>System Info</h3>\n",
       "      Using FIFO scheduling algorithm.<br>Logical resource usage: 3.0/16 CPUs, 0/2 GPUs (0.0/1.0 accelerator_type:P1000)\n",
       "    </div>\n",
       "    \n",
       "  </div>\n",
       "  <div class=\"hDivider\"></div>\n",
       "  <div class=\"trialStatus\">\n",
       "    <h3>Trial Status</h3>\n",
       "    <table>\n",
       "<thead>\n",
       "<tr><th>Trial name                 </th><th>status    </th><th>loc                 </th><th style=\"text-align: right;\">  iter</th><th style=\"text-align: right;\">  total time (s)</th><th style=\"text-align: right;\">  num_training_step_ca\n",
       "lls_per_iteration</th><th style=\"text-align: right;\">     num_env_steps_sample\n",
       "d_lifetime</th></tr>\n",
       "</thead>\n",
       "<tbody>\n",
       "<tr><td>PPO_CartPole-v1_36536_00000</td><td>TERMINATED</td><td>10.110.34.88:3397885</td><td style=\"text-align: right;\">     2</td><td style=\"text-align: right;\">         16.1175</td><td style=\"text-align: right;\">1</td><td style=\"text-align: right;\">4000</td></tr>\n",
       "</tbody>\n",
       "</table>\n",
       "  </div>\n",
       "</div>\n",
       "<style>\n",
       ".tuneStatus {\n",
       "  color: var(--jp-ui-font-color1);\n",
       "}\n",
       ".tuneStatus .systemInfo {\n",
       "  display: flex;\n",
       "  flex-direction: column;\n",
       "}\n",
       ".tuneStatus td {\n",
       "  white-space: nowrap;\n",
       "}\n",
       ".tuneStatus .trialStatus {\n",
       "  display: flex;\n",
       "  flex-direction: column;\n",
       "}\n",
       ".tuneStatus h3 {\n",
       "  font-weight: bold;\n",
       "}\n",
       ".tuneStatus .hDivider {\n",
       "  border-bottom-width: var(--jp-border-width);\n",
       "  border-bottom-color: var(--jp-border-color0);\n",
       "  border-bottom-style: solid;\n",
       "}\n",
       ".tuneStatus .vDivider {\n",
       "  border-left-width: var(--jp-border-width);\n",
       "  border-left-color: var(--jp-border-color0);\n",
       "  border-left-style: solid;\n",
       "  margin: 0.5em 1em 0.5em 1em;\n",
       "}\n",
       "</style>\n"
      ],
      "text/plain": [
       "<IPython.core.display.HTML object>"
      ]
     },
     "metadata": {},
     "output_type": "display_data"
    },
    {
     "name": "stderr",
     "output_type": "stream",
     "text": [
      "2025-08-05 14:41:27,276\tWARNING algorithm_config.py:5033 -- You are running PPO on the new API stack! This is the new default behavior for this algorithm. If you don't want to use the new API stack, set `config.api_stack(enable_rl_module_and_learner=False,enable_env_runner_and_connector_v2=False)`. For a detailed migration guide, see here: https://docs.ray.io/en/master/rllib/new-api-stack-migration-guide.html\n",
      "\u001b[36m(PPO pid=3397885)\u001b[0m 2025-08-05 14:41:31,754\tWARNING algorithm_config.py:5033 -- You are running PPO on the new API stack! This is the new default behavior for this algorithm. If you don't want to use the new API stack, set `config.api_stack(enable_rl_module_and_learner=False,enable_env_runner_and_connector_v2=False)`. For a detailed migration guide, see here: https://docs.ray.io/en/master/rllib/new-api-stack-migration-guide.html\n",
      "\u001b[36m(PPO pid=3397885)\u001b[0m [2025-08-05 14:41:32,033 E 3397885 3397885] core_worker.cc:2740: Actor with class name: 'SingleAgentEnvRunner' and ID: '88eba756a645d593ce20b5f301000000' has constructor arguments in the object store and max_restarts > 0. If the arguments in the object store go out of scope or are lost, the actor restart will fail. See https://github.com/ray-project/ray/issues/53727 for more details.\n",
      "\u001b[36m(PPO pid=3397885)\u001b[0m [2025-08-05 14:41:32,069 E 3397885 3397885] core_worker.cc:2740: Actor with class name: 'SingleAgentEnvRunner' and ID: 'd4d75d62bb16a9cee8ff88ad01000000' has constructor arguments in the object store and max_restarts > 0. If the arguments in the object store go out of scope or are lost, the actor restart will fail. See https://github.com/ray-project/ray/issues/53727 for more details.\n",
      "\u001b[36m(SingleAgentEnvRunner pid=3397985)\u001b[0m 2025-08-05 14:41:36,581\tWARNING deprecation.py:50 -- DeprecationWarning: `RLModule(config=[RLModuleConfig object])` has been deprecated. Use `RLModule(observation_space=.., action_space=.., inference_only=.., model_config=.., catalog_class=..)` instead. This will raise an error in the future!\n",
      "2025-08-05 14:41:54,239\tINFO tune.py:1009 -- Wrote the latest version of all result files and experiment state to '/home/robotarm/ray_results/PPO_2025-08-05_14-41-24' in 0.0220s.\n",
      "\u001b[36m(PPO(env=CartPole-v1; env-runners=2; learners=0; multi-agent=False) pid=3397885)\u001b[0m Checkpoint successfully created at: Checkpoint(filesystem=local, path=/home/robotarm/ray_results/PPO_2025-08-05_14-41-24/PPO_CartPole-v1_36536_00000_0_2025-08-05_14-41-27/checkpoint_000000)\n",
      "\u001b[36m(PPO pid=3397885)\u001b[0m 2025-08-05 14:41:36,831\tWARNING deprecation.py:50 -- DeprecationWarning: `RLModule(config=[RLModuleConfig object])` has been deprecated. Use `RLModule(observation_space=.., action_space=.., inference_only=.., model_config=.., catalog_class=..)` instead. This will raise an error in the future!\u001b[32m [repeated 2x across cluster] (Ray deduplicates logs by default. Set RAY_DEDUP_LOGS=0 to disable log deduplication, or see https://docs.ray.io/en/master/ray-observability/user-guides/configure-logging.html#log-deduplication for more options.)\u001b[0m\n",
      "2025-08-05 14:41:54,557\tINFO tune.py:1041 -- Total run time: 27.33 seconds (26.95 seconds for the tuning loop).\n"
     ]
    },
    {
     "name": "stderr",
     "output_type": "stream",
     "text": [
      "\u001b[36m(SingleAgentEnvRunner pid=3396990)\u001b[0m 2025-08-05 15:49:22,651\tWARNING deprecation.py:50 -- DeprecationWarning: `RLModule(config=[RLModuleConfig object])` has been deprecated. Use `RLModule(observation_space=.., action_space=.., inference_only=.., model_config=.., catalog_class=..)` instead. This will raise an error in the future!\n",
      "\u001b[36m(PPOTorchLearner pid=3396988)\u001b[0m 2025-08-05 16:44:31,346\tWARNING deprecation.py:50 -- DeprecationWarning: `RLModule(config=[RLModuleConfig object])` has been deprecated. Use `RLModule(observation_space=.., action_space=.., inference_only=.., model_config=.., catalog_class=..)` instead. This will raise an error in the future!\n",
      "\u001b[33m(raylet)\u001b[0m [2025-08-06 12:44:30,692 E 3396908 3396908] (raylet) node_manager.cc:3041: 2 Workers (tasks / actors) killed due to memory pressure (OOM), 0 Workers crashed due to other reasons at node (ID: b62833ca9d8c3ddae79da8684c91c9752b0cbd158d0278b48759b821, IP: 10.110.34.88) over the last time period. To see more information about the Workers killed on this node, use `ray logs raylet.out -ip 10.110.34.88`\n",
      "\u001b[33m(raylet)\u001b[0m \n",
      "\u001b[33m(raylet)\u001b[0m Refer to the documentation on how to address the out of memory issue: https://docs.ray.io/en/latest/ray-core/scheduling/ray-oom-prevention.html. Consider provisioning more memory on this node or reducing task parallelism by requesting more CPUs per task. To adjust the kill threshold, set the environment variable `RAY_memory_usage_threshold` when starting Ray. To disable worker killing, set the environment variable `RAY_memory_monitor_refresh_ms` to zero.\n",
      "\u001b[33m(raylet)\u001b[0m \n",
      "\u001b[33m(raylet)\u001b[0m [2025-08-06 15:49:31,339 E 3396908 3396908] (raylet) node_manager.cc:3041: 1 Workers (tasks / actors) killed due to memory pressure (OOM), 0 Workers crashed due to other reasons at node (ID: b62833ca9d8c3ddae79da8684c91c9752b0cbd158d0278b48759b821, IP: 10.110.34.88) over the last time period. To see more information about the Workers killed on this node, use `ray logs raylet.out -ip 10.110.34.88`\n",
      "\u001b[33m(raylet)\u001b[0m Refer to the documentation on how to address the out of memory issue: https://docs.ray.io/en/latest/ray-core/scheduling/ray-oom-prevention.html. Consider provisioning more memory on this node or reducing task parallelism by requesting more CPUs per task. To adjust the kill threshold, set the environment variable `RAY_memory_usage_threshold` when starting Ray. To disable worker killing, set the environment variable `RAY_memory_monitor_refresh_ms` to zero.\n",
      "\u001b[33m(raylet)\u001b[0m [2025-08-06 17:07:31,583 E 3396908 3396908] (raylet) node_manager.cc:3041: 10 Workers (tasks / actors) killed due to memory pressure (OOM), 0 Workers crashed due to other reasons at node (ID: b62833ca9d8c3ddae79da8684c91c9752b0cbd158d0278b48759b821, IP: 10.110.34.88) over the last time period. To see more information about the Workers killed on this node, use `ray logs raylet.out -ip 10.110.34.88`\n",
      "\u001b[33m(raylet)\u001b[0m \n",
      "\u001b[33m(raylet)\u001b[0m Refer to the documentation on how to address the out of memory issue: https://docs.ray.io/en/latest/ray-core/scheduling/ray-oom-prevention.html. Consider provisioning more memory on this node or reducing task parallelism by requesting more CPUs per task. To adjust the kill threshold, set the environment variable `RAY_memory_usage_threshold` when starting Ray. To disable worker killing, set the environment variable `RAY_memory_monitor_refresh_ms` to zero.\n"
     ]
    }
   ],
   "source": [
    "from ray import tune\n",
    "from ray.rllib.algorithms.ppo import PPOConfig\n",
    "\n",
    "# Configure.\n",
    "config = (\n",
    "    PPOConfig()\n",
    "    .environment(\"CartPole-v1\")\n",
    "    .training(\n",
    "        train_batch_size_per_learner=2000,\n",
    "        lr=0.0004,\n",
    "    )\n",
    ")\n",
    "\n",
    "# Train through Ray Tune.\n",
    "results = tune.Tuner(\n",
    "    \"PPO\",\n",
    "    param_space=config,\n",
    "    # Train for 4000 timesteps (2 iterations).\n",
    "    run_config=tune.RunConfig(stop={\"num_env_steps_sampled_lifetime\": 4000}),\n",
    ").fit()"
   ]
  },
  {
   "cell_type": "markdown",
   "id": "cd53e652",
   "metadata": {},
   "source": [
    "# RL 环境\n",
    "这是一个简单的 RL 环境，其中智能体从 reset() 方法返回的初始observation开始。智能体（可能由神经网络策略控制）将动作（例如 right 或 jump）发送到环境的 step() 方法，该方法返回奖励。在此，达到目标的奖励值为 +5，否则为 0。环境还会返回一个布尔标志，指示回合是否完成。\n",
    "## RLModule\n",
    "RLModule 是深度学习框架特定的神经网络包装器。RLlib 的EnvRunner 在遍历 RL 环境时使用它们来计算动作，而 RLlib 的Learner 在更新模型之前使用 RLModule 实例来计算损失和梯度。\n",
    "每个 EnvRunner actor 由 Algorithm 的 EnvRunnerGroup 管理，都拥有用户 RLModule 的副本。同样，每个 Learner actor 由 Algorithm 的 LearnerGroup 管理，都拥有 RLModule 的副本。\n",
    "阻止 EnvRunner 副本通常是其 inference_only 版本，这意味着计算纯动作不需要的组件（例如值函数估计）会被省略以节省内存。\n",
    "\n",
    "RLlib 以回合 (Episode) 的形式传输所有训练数据。\n",
    "SingleAgentEpisode 类描述单智能体轨迹。MultiAgentEpisode 类包含多个此类单智能体回合，并描述了单个智能体相对于彼此的步进时间模式。\n",
    "通常，RLlib 通过 Algorithm 的 EnvRunnerGroup 中的 EnvRunner actor 生成大小为 config.rollout_fragment_length 的回合块，并向每个 Learner actor 发送所需的回合块数量，以构建一个大小恰好为 config.train_batch_size_per_learner 的训练批次。"
   ]
  },
  {
   "cell_type": "code",
   "execution_count": null,
   "id": "bfc5725e",
   "metadata": {},
   "outputs": [],
   "source": [
    "import numpy as np\n",
    "\n",
    "# A SingleAgentEpisode of length 20 has roughly the following schematic structure.\n",
    "# Note that after these 20 steps, you have 20 actions and rewards, but 21 observations and info dicts\n",
    "# due to the initial \"reset\" observation/infos.\n",
    "episode = {\n",
    "    'obs': np.ndarray((21, 4), dtype=np.float32),  # 21 due to additional reset obs\n",
    "    'infos': [{}, {}, {}, {}, {}, {}],  # infos are always lists of dicts\n",
    "    'actions': np.ndarray((20,), dtype=np.int64),  # Discrete(4) action space\n",
    "    'rewards': np.ndarray((20,), dtype=np.float32),\n",
    "    'extra_model_outputs': {\n",
    "        'action_dist_inputs': np.ndarray((20, 4), dtype=np.float32),  # Discrete(4) action space\n",
    "    },\n",
    "    'is_terminated': False,  # <- single bool\n",
    "    'is_truncated': True,  # <- single bool\n",
    "}\n",
    "episode_w_complex_observations = {\n",
    "    'obs': {\n",
    "        \"camera\": np.ndarray((21, 64, 64, 3), dtype=np.float32),  # RGB images\n",
    "        \"sensors\": {\n",
    "            \"front\": np.ndarray((21, 15), dtype=np.float32),  # 1D tensors\n",
    "            \"rear\": np.ndarray((21, 5), dtype=np.float32),  # another batch of 1D tensors\n",
    "        },\n",
    "    },\n",
    "}"
   ]
  },
  {
   "cell_type": "markdown",
   "id": "f01684ff",
   "metadata": {},
   "source": [
    "## EnvRunner：结合 RL 环境和 RLModule\n",
    "RLlib 提供了两个内置的 EnvRunner 类，SingleAgentEnvRunner 和 MultiAgentEnvRunner，它们会自动处理这些复杂性。RLlib 根据您的配置选择正确的类型，特别是 config.environment() 和 config.multi_agent() 设置。\n",
    "您也可以单独使用一个 EnvRunner，通过调用其 sample() 方法来生成回合列表。"
   ]
  },
  {
   "cell_type": "code",
   "execution_count": null,
   "id": "0258a345",
   "metadata": {},
   "outputs": [
    {
     "name": "stdout",
     "output_type": "stream",
     "text": [
      "R= -500.0\n",
      "R= -500.0\n",
      "R= -500.0\n",
      "R= -500.0\n",
      "R= -500.0\n",
      "R= -500.0\n"
     ]
    }
   ],
   "source": [
    "import tree  # pip install dm_tree\n",
    "import ray\n",
    "from ray.rllib.algorithms.ppo import PPOConfig\n",
    "from ray.rllib.env.single_agent_env_runner import SingleAgentEnvRunner\n",
    "\n",
    "# Configure the EnvRunners.\n",
    "config = (\n",
    "    PPOConfig()\n",
    "    .environment(\"Acrobot-v1\")\n",
    "    .env_runners(num_env_runners=2, num_envs_per_env_runner=1)\n",
    ")\n",
    "# Create the EnvRunner actors.\n",
    "env_runners = [\n",
    "    ray.remote(SingleAgentEnvRunner).remote(config=config)\n",
    "    for _ in range(config.num_env_runners)\n",
    "]\n",
    "\n",
    "# Gather lists of `SingleAgentEpisode`s (each EnvRunner actor returns one\n",
    "# such list with exactly two episodes in it).\n",
    "episodes = ray.get([\n",
    "    er.sample.remote(num_episodes=3)\n",
    "    for er in env_runners\n",
    "])\n",
    "# Two remote EnvRunners used.\n",
    "assert len(episodes) == 2\n",
    "# Each EnvRunner returns three episodes\n",
    "assert all(len(eps_list) == 3 for eps_list in episodes)\n",
    "\n",
    "# Report the returns of all episodes collected\n",
    "for episode in tree.flatten(episodes):\n",
    "    print(\"R=\", episode.get_return())"
   ]
  },
  {
   "cell_type": "markdown",
   "id": "e57b307b",
   "metadata": {},
   "source": [
    "## Learner：结合 RLModule、损失函数和优化器\n",
    "Learner 实例与算法特定，这主要是由于不同 RL 算法使用了各种损失函数。\n",
    "RLlib 总是通过 LearnerGroup API 捆绑多个 Learner actor，自动在训练数据上应用分布式数据并行 (DDP)。也可以单独使用一个 Learner，用回合列表更新您的 RLModule。"
   ]
  },
  {
   "cell_type": "code",
   "execution_count": 3,
   "id": "a7300698",
   "metadata": {},
   "outputs": [
    {
     "name": "stdout",
     "output_type": "stream",
     "text": [
      "Stats(0.010434884577989578; len=1; reduce=mean; win=1)\n"
     ]
    }
   ],
   "source": [
    "import gymnasium as gym\n",
    "import ray\n",
    "from ray.rllib.algorithms.ppo import PPOConfig\n",
    "from ray.rllib.core.rl_module.default_model_config import DefaultModelConfig\n",
    "\n",
    "# Configure the Learner.\n",
    "config = (\n",
    "    PPOConfig()\n",
    "    .environment(\"Acrobot-v1\")\n",
    "    .training(lr=0.0001)\n",
    "    .rl_module(model_config=DefaultModelConfig(fcnet_hiddens=[64, 32]))\n",
    ")\n",
    "# Get the Learner class.\n",
    "ppo_learner_class = config.get_default_learner_class()\n",
    "\n",
    "# Create the Learner actor.\n",
    "learner_actor = ray.remote(ppo_learner_class).remote(\n",
    "    config=config,\n",
    "    module_spec=config.get_multi_rl_module_spec(env=gym.make(\"Acrobot-v1\")),\n",
    ")\n",
    "# Build the Learner.\n",
    "ray.get(learner_actor.build.remote())\n",
    "\n",
    "# Perform an update from the list of episodes we got from the `EnvRunners` above.\n",
    "learner_results = ray.get(learner_actor.update.remote(\n",
    "    episodes=tree.flatten(episodes)\n",
    "))\n",
    "print(learner_results[\"default_policy\"][\"policy_loss\"])"
   ]
  }
 ],
 "metadata": {
  "kernelspec": {
   "display_name": "ray_env",
   "language": "python",
   "name": "python3"
  },
  "language_info": {
   "codemirror_mode": {
    "name": "ipython",
    "version": 3
   },
   "file_extension": ".py",
   "mimetype": "text/x-python",
   "name": "python",
   "nbconvert_exporter": "python",
   "pygments_lexer": "ipython3",
   "version": "3.10.18"
  }
 },
 "nbformat": 4,
 "nbformat_minor": 5
}
