{
 "cells": [
  {
   "cell_type": "markdown",
   "id": "74376889",
   "metadata": {},
   "source": [
    "# 核心概念"
   ]
  },
  {
   "cell_type": "code",
   "execution_count": null,
   "id": "39386f9b",
   "metadata": {},
   "outputs": [],
   "source": []
  }
 ],
 "metadata": {
  "language_info": {
   "name": "python"
  }
 },
 "nbformat": 4,
 "nbformat_minor": 5
}
